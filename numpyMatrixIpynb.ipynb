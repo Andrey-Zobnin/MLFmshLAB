{
  "cells": [
    {
      "cell_type": "markdown",
      "metadata": {
        "id": "view-in-github",
        "colab_type": "text"
      },
      "source": [
        "<a href=\"https://colab.research.google.com/github/Andrey-Zobnin/MLFmshLAB/blob/master/numpyMatrixIpynb.ipynb\" target=\"_parent\"><img src=\"https://colab.research.google.com/assets/colab-badge.svg\" alt=\"Open In Colab\"/></a>"
      ]
    },
    {
      "cell_type": "markdown",
      "metadata": {
        "id": "t0Ao17IyHy_M"
      },
      "source": [
        "# Полный курс работы с матрицами в NumPy\n",
        "В этом ноутбуке мы разберем:\n",
        "- Создание матриц\n",
        "- Основные арифметические операции\n",
        "- Умножение матриц\n",
        "- Транспонирование, определитель, след, ранг\n",
        "- Обратная и псевдообратная матрицы\n",
        "- Генерация случайных и специальных матриц\n",
        "- Решение систем линейных уравнений"
      ],
      "id": "t0Ao17IyHy_M"
    },
    {
      "cell_type": "code",
      "execution_count": null,
      "metadata": {
        "id": "Qt_61lMsHy_N"
      },
      "outputs": [],
      "source": [
        "# Импортируем библиотеку NumPy\n",
        "import numpy as np"
      ],
      "id": "Qt_61lMsHy_N"
    },
    {
      "cell_type": "markdown",
      "metadata": {
        "id": "keOBx4u7Hy_N"
      },
      "source": [
        "## 1. Создание матриц\n",
        "Можно создать матрицу из списка списков, или использовать специальные функции NumPy."
      ],
      "id": "keOBx4u7Hy_N"
    },
    {
      "cell_type": "code",
      "execution_count": null,
      "metadata": {
        "id": "AJtcxmwSHy_N"
      },
      "outputs": [],
      "source": [
        "# Матрица 3x3 из списка списков\n",
        "A = np.array([[1, 2, 3], [4, 5, 6], [7, 8, 9]])\n",
        "print(\"Матрица A:\\n\", A)\n",
        "\n",
        "# Матрица нулей 3x3\n",
        "B = np.zeros((3,3))\n",
        "print(\"\\nМатрица B (нули):\\n\", B)\n",
        "\n",
        "# Матрица единиц 3x3\n",
        "C = np.ones((3,3))\n",
        "print(\"\\nМатрица C (единицы):\\n\", C)\n",
        "\n",
        "# Единичная матрица 3x3\n",
        "I = np.eye(3)\n",
        "print(\"\\nЕдиничная матрица I:\\n\", I)\n",
        "\n",
        "# Диагональная матрица\n",
        "D = np.diag([10, 20, 30])\n",
        "print(\"\\nДиагональная матрица D:\\n\", D)\n",
        "\n",
        "# Случайная матрица 3x3 с числами от 0 до 1\n",
        "E = np.random.rand(3,3)\n",
        "print(\"\\nСлучайная матрица E:\\n\", E)"
      ],
      "id": "AJtcxmwSHy_N"
    },
    {
      "cell_type": "markdown",
      "metadata": {
        "id": "zcuhfbfvHy_N"
      },
      "source": [
        "## 2. Основные арифметические операции"
      ],
      "id": "zcuhfbfvHy_N"
    },
    {
      "cell_type": "code",
      "execution_count": null,
      "metadata": {
        "id": "HwlFSsSDHy_O"
      },
      "outputs": [],
      "source": [
        "# Сложение матриц\n",
        "F = A + C\n",
        "print(\"A + C:\\n\", F)\n",
        "\n",
        "# Вычитание матриц\n",
        "G = A - C\n",
        "print(\"A - C:\\n\", G)\n",
        "\n",
        "# Умножение матрицы на число\n",
        "H = A * 2\n",
        "print(\"A * 2:\\n\", H)\n",
        "\n",
        "# Поэлементное умножение\n",
        "I_mult = A * C\n",
        "print(\"A * C (поэлементно):\\n\", I_mult)"
      ],
      "id": "HwlFSsSDHy_O"
    },
    {
      "cell_type": "markdown",
      "metadata": {
        "id": "bKUXKa5eHy_O"
      },
      "source": [
        "## 3. Умножение матриц"
      ],
      "id": "bKUXKa5eHy_O"
    },
    {
      "cell_type": "code",
      "execution_count": null,
      "metadata": {
        "id": "5Ri2vxg8Hy_O"
      },
      "outputs": [],
      "source": [
        "# Матрица умножение с помощью np.dot\n",
        "J = np.dot(A, C)\n",
        "print(\"A @ C:\\n\", J)\n",
        "\n",
        "# Еще один способ через оператор @\n",
        "K = A @ C\n",
        "print(\"A @ C (оператор):\\n\", K)"
      ],
      "id": "5Ri2vxg8Hy_O"
    },
    {
      "cell_type": "markdown",
      "metadata": {
        "id": "TjBgxYoUHy_O"
      },
      "source": [
        "## 4. Транспонирование, след, ранг, определитель"
      ],
      "id": "TjBgxYoUHy_O"
    },
    {
      "cell_type": "code",
      "execution_count": null,
      "metadata": {
        "id": "yHgVh2qiHy_O"
      },
      "outputs": [],
      "source": [
        "# Транспонирование\n",
        "A_T = A.T\n",
        "print(\"Транспонированная A:\\n\", A_T)\n",
        "\n",
        "# След матрицы\n",
        "trace_A = np.trace(A)\n",
        "print(\"След матрицы A:\", trace_A)\n",
        "\n",
        "# Ранг матрицы\n",
        "rank_A = np.linalg.matrix_rank(A)\n",
        "print(\"Ранг матрицы A:\", rank_A)\n",
        "\n",
        "# Определитель (для квадратной невырожденной)\n",
        "I2 = np.array([[1, 2], [3, 4]])\n",
        "det_I2 = np.linalg.det(I2)\n",
        "print(\"Определитель I2:\", det_I2)"
      ],
      "id": "yHgVh2qiHy_O"
    },
    {
      "cell_type": "markdown",
      "metadata": {
        "id": "tb3YsZIEHy_O"
      },
      "source": [
        "## 5. Обратная и псевдообратная матрицы"
      ],
      "id": "tb3YsZIEHy_O"
    },
    {
      "cell_type": "code",
      "execution_count": null,
      "metadata": {
        "id": "vuEpAK2BHy_O"
      },
      "outputs": [],
      "source": [
        "# Обратная матрица\n",
        "I2_inv = np.linalg.inv(I2)\n",
        "print(\"Обратная матрица I2:\\n\", I2_inv)\n",
        "\n",
        "# Псевдообратная матрица (для вырожденных)\n",
        "A_pinv = np.linalg.pinv(A)\n",
        "print(\"Псевдообратная A:\\n\", A_pinv)"
      ],
      "id": "vuEpAK2BHy_O"
    },
    {
      "cell_type": "markdown",
      "metadata": {
        "id": "UWkAm-HkHy_O"
      },
      "source": [
        "## 6. Решение системы линейных уравнений\n",
        "Пример: решить систему\n",
        "```\n",
        "2x + 3y = 8\n",
        "5x + 4y = 13\n",
        "```"
      ],
      "id": "UWkAm-HkHy_O"
    },
    {
      "cell_type": "code",
      "execution_count": null,
      "metadata": {
        "id": "Y8TfsuRnHy_O"
      },
      "outputs": [],
      "source": [
        "A_sys = np.array([[2, 3], [5, 4]])\n",
        "b_sys = np.array([8, 13])\n",
        "x_sys = np.linalg.solve(A_sys, b_sys)\n",
        "print(\"Решение системы [x, y]:\", x_sys)"
      ],
      "id": "Y8TfsuRnHy_O"
    },
    {
      "cell_type": "markdown",
      "metadata": {
        "id": "M0r7LTiyHy_P"
      },
      "source": [
        "## 7. Генерация случайных и специальных матриц"
      ],
      "id": "M0r7LTiyHy_P"
    },
    {
      "cell_type": "code",
      "execution_count": null,
      "metadata": {
        "id": "WF5YNXelHy_P"
      },
      "outputs": [],
      "source": [
        "# Случайная целая матрица 3x3 с числами от 0 до 9\n",
        "R = np.random.randint(0, 10, (3,3))\n",
        "print(\"Случайная целая матрица R:\\n\", R)\n",
        "\n",
        "# Диагональная матрица из вектора\n",
        "v = np.array([5, 10, 15])\n",
        "D_v = np.diag(v)\n",
        "print(\"Диагональная матрица из вектора v:\\n\", D_v)"
      ],
      "id": "WF5YNXelHy_P"
    },
    {
      "cell_type": "markdown",
      "metadata": {
        "id": "F-4to572Hy_P"
      },
      "source": [
        "## 8. Дополнительные операции"
      ],
      "id": "F-4to572Hy_P"
    },
    {
      "cell_type": "code",
      "execution_count": null,
      "metadata": {
        "id": "lkrSm6AqHy_P"
      },
      "outputs": [],
      "source": [
        "# Сумма всех элементов\n",
        "sum_A = np.sum(A)\n",
        "print(\"Сумма всех элементов A:\", sum_A)\n",
        "\n",
        "# Минимум и максимум\n",
        "min_A = np.min(A)\n",
        "max_A = np.max(A)\n",
        "print(\"Минимум A:\", min_A, \"Максимум A:\", max_A)\n",
        "\n",
        "# Среднее значение\n",
        "mean_A = np.mean(A)\n",
        "print(\"Среднее значение элементов A:\", mean_A)"
      ],
      "id": "lkrSm6AqHy_P"
    }
  ],
  "metadata": {
    "kernelspec": {
      "display_name": "Python 3",
      "language": "python",
      "name": "python3"
    },
    "language_info": {
      "name": "python",
      "version": "3.11"
    },
    "colab": {
      "provenance": [],
      "include_colab_link": true
    }
  },
  "nbformat": 4,
  "nbformat_minor": 5
}